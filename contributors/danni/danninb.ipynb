import numpy as np 
import matplotlib.pyploy as plt
